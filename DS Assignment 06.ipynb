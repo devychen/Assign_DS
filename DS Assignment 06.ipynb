{
 "cells": [
  {
   "cell_type": "code",
   "execution_count": 2,
   "id": "2c108c38-8527-470c-9896-e940108d1557",
   "metadata": {},
   "outputs": [],
   "source": [
    "#Q1\n",
    "\n",
    "import pandas as pd\n",
    "\n",
    "# Load Chinese lexical decision dataset\n",
    "tsang_path = \"/Users/ychen/Assign_DS/Tsang-2018-LexicalDecision.tsv\"\n",
    "tsang_df = pd.read_csv(tsang_path, sep='\\t')\n",
    "\n",
    "# Load affective ratings dataset\n",
    "mohammad_path = \"/Users/ychen/Assign_DS/Mohammad-2018-AffectiveRatings.tsv\"\n",
    "mohammad_df = pd.read_csv(mohammad_path, sep='\\t')\n"
   ]
  },
  {
   "cell_type": "code",
   "execution_count": 8,
   "id": "397f6377-ba1b-4da7-9b92-a105bd243d6d",
   "metadata": {},
   "outputs": [],
   "source": [
    "#Q2\n",
    "\n",
    "# Merge datasets based on ConceptID\n",
    "merged_df = pd.merge(tsang_df, mohammad_df, on='CONCEPTICON_ID', how='inner')\n",
    "\n",
    "# Discard rows with missing data\n",
    "merged_df.dropna(inplace=True)\n",
    "\n",
    "# Specify the path for the new merged dataset CSV file\n",
    "merged_output_path = \"/Users/ychen/Assign_DS/merged_dataset.csv\"  # Replace with the desired output file path\n",
    "\n",
    "# Export the merged DataFrame to a new CSV file\n",
    "merged_df.to_csv(merged_output_path, index=False)"
   ]
  },
  {
   "cell_type": "code",
   "execution_count": null,
   "id": "c0eacf70-3bde-4c48-8039-2b2cf01d2068",
   "metadata": {},
   "outputs": [],
   "source": []
  }
 ],
 "metadata": {
  "kernelspec": {
   "display_name": "Python 3 (ipykernel)",
   "language": "python",
   "name": "python3"
  },
  "language_info": {
   "codemirror_mode": {
    "name": "ipython",
    "version": 3
   },
   "file_extension": ".py",
   "mimetype": "text/x-python",
   "name": "python",
   "nbconvert_exporter": "python",
   "pygments_lexer": "ipython3",
   "version": "3.11.6"
  }
 },
 "nbformat": 4,
 "nbformat_minor": 5
}
